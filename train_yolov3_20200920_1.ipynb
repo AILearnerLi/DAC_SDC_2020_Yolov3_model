{
  "nbformat": 4,
  "nbformat_minor": 0,
  "metadata": {
    "colab": {
      "name": "train_yolov3_20200920-1.ipynb",
      "provenance": [],
      "collapsed_sections": [],
      "authorship_tag": "ABX9TyPucxAunV/QvO8SEVIiDhLz",
      "include_colab_link": true
    },
    "kernelspec": {
      "name": "python3",
      "display_name": "Python 3"
    }
  },
  "cells": [
    {
      "cell_type": "markdown",
      "metadata": {
        "id": "view-in-github",
        "colab_type": "text"
      },
      "source": [
        "<a href=\"https://colab.research.google.com/github/maxpark/DAC_SDC_2020_Yolov3_model/blob/master/train_yolov3_20200920_1.ipynb\" target=\"_parent\"><img src=\"https://colab.research.google.com/assets/colab-badge.svg\" alt=\"Open In Colab\"/></a>"
      ]
    },
    {
      "cell_type": "code",
      "metadata": {
        "id": "DnSJwq5ioplC",
        "colab_type": "code",
        "colab": {
          "base_uri": "https://localhost:8080/",
          "height": 34
        },
        "outputId": "cb23256d-de77-48d7-a8be-850a7c05e91f"
      },
      "source": [
        "import time\n",
        "import glob\n",
        "import torch\n",
        "import os\n",
        "\n",
        "from IPython.display import Image, clear_output \n",
        "print('PyTorch %s %s' % (torch.__version__, torch.cuda.get_device_properties(0) if torch.cuda.is_available() else 'CPU'))"
      ],
      "execution_count": null,
      "outputs": [
        {
          "output_type": "stream",
          "text": [
            "PyTorch 1.6.0+cu101 CPU\n"
          ],
          "name": "stdout"
        }
      ]
    },
    {
      "cell_type": "code",
      "metadata": {
        "id": "026i1_yGozdT",
        "colab_type": "code",
        "colab": {
          "base_uri": "https://localhost:8080/",
          "height": 54
        },
        "outputId": "e8b3f31b-592a-4345-a0f7-721dafaaef96"
      },
      "source": [
        "!git clone https://github.com/maxpark/DAC_SDC_2020_Yolov3_model"
      ],
      "execution_count": null,
      "outputs": [
        {
          "output_type": "stream",
          "text": [
            "fatal: destination path 'DAC_SDC_2020_Yolov3_model' already exists and is not an empty directory.\n"
          ],
          "name": "stdout"
        }
      ]
    },
    {
      "cell_type": "code",
      "metadata": {
        "id": "9Vf7dhWsqxMY",
        "colab_type": "code",
        "colab": {}
      },
      "source": [
        "#!bash train/get_dataset.sh"
      ],
      "execution_count": 54,
      "outputs": []
    },
    {
      "cell_type": "code",
      "metadata": {
        "id": "x3aOKbX37UhP",
        "colab_type": "code",
        "colab": {
          "base_uri": "https://localhost:8080/",
          "height": 309
        },
        "outputId": "9f6e8619-a41e-47de-c1f7-8f69dcf866ae"
      },
      "source": [
        "!wget -O data_training_V4.zip https://drive.google.com/file/d/1cwPeRERlwHsOFMOYR2K24XPCsi311iER/view?usp=sharing"
      ],
      "execution_count": 56,
      "outputs": [
        {
          "output_type": "stream",
          "text": [
            "--2020-09-20 06:48:38--  https://drive.google.com/file/d/1cwPeRERlwHsOFMOYR2K24XPCsi311iER/view?usp=sharing\n",
            "Resolving drive.google.com (drive.google.com)... 74.125.204.102, 74.125.204.100, 74.125.204.113, ...\n",
            "Connecting to drive.google.com (drive.google.com)|74.125.204.102|:443... connected.\n",
            "HTTP request sent, awaiting response... 302 Moved Temporarily\n",
            "Location: https://accounts.google.com/ServiceLogin?service=wise&passive=1209600&continue=https://drive.google.com/file/d/1cwPeRERlwHsOFMOYR2K24XPCsi311iER/view?usp%3Dsharing&followup=https://drive.google.com/file/d/1cwPeRERlwHsOFMOYR2K24XPCsi311iER/view?usp%3Dsharing [following]\n",
            "--2020-09-20 06:48:39--  https://accounts.google.com/ServiceLogin?service=wise&passive=1209600&continue=https://drive.google.com/file/d/1cwPeRERlwHsOFMOYR2K24XPCsi311iER/view?usp%3Dsharing&followup=https://drive.google.com/file/d/1cwPeRERlwHsOFMOYR2K24XPCsi311iER/view?usp%3Dsharing\n",
            "Resolving accounts.google.com (accounts.google.com)... 108.177.97.84, 2404:6800:4008:c07::54\n",
            "Connecting to accounts.google.com (accounts.google.com)|108.177.97.84|:443... connected.\n",
            "HTTP request sent, awaiting response... 200 OK\n",
            "Length: unspecified [text/html]\n",
            "Saving to: ‘data_training_V4.zip’\n",
            "\n",
            "data_training_V4.zi     [ <=>                ]  60.16K  --.-KB/s    in 0.001s  \n",
            "\n",
            "2020-09-20 06:48:39 (90.1 MB/s) - ‘data_training_V4.zip’ saved [61604]\n",
            "\n"
          ],
          "name": "stdout"
        }
      ]
    },
    {
      "cell_type": "code",
      "metadata": {
        "id": "6QdlBAUQR2OL",
        "colab_type": "code",
        "colab": {
          "base_uri": "https://localhost:8080/",
          "height": 309
        },
        "outputId": "536bf2d1-302e-4211-9bf5-231bae2af932"
      },
      "source": [
        "!wget https://drive.google.com/file/d/1cwPeRERlwHsOFMOYR2K24XPCsi311iER/view?usp=sharing"
      ],
      "execution_count": 57,
      "outputs": [
        {
          "output_type": "stream",
          "text": [
            "--2020-09-20 06:51:08--  https://drive.google.com/file/d/1cwPeRERlwHsOFMOYR2K24XPCsi311iER/view?usp=sharing\n",
            "Resolving drive.google.com (drive.google.com)... 108.177.97.100, 108.177.97.139, 108.177.97.102, ...\n",
            "Connecting to drive.google.com (drive.google.com)|108.177.97.100|:443... connected.\n",
            "HTTP request sent, awaiting response... 302 Moved Temporarily\n",
            "Location: https://accounts.google.com/ServiceLogin?service=wise&passive=1209600&continue=https://drive.google.com/file/d/1cwPeRERlwHsOFMOYR2K24XPCsi311iER/view?usp%3Dsharing&followup=https://drive.google.com/file/d/1cwPeRERlwHsOFMOYR2K24XPCsi311iER/view?usp%3Dsharing [following]\n",
            "--2020-09-20 06:51:08--  https://accounts.google.com/ServiceLogin?service=wise&passive=1209600&continue=https://drive.google.com/file/d/1cwPeRERlwHsOFMOYR2K24XPCsi311iER/view?usp%3Dsharing&followup=https://drive.google.com/file/d/1cwPeRERlwHsOFMOYR2K24XPCsi311iER/view?usp%3Dsharing\n",
            "Resolving accounts.google.com (accounts.google.com)... 108.177.97.84, 2404:6800:4008:c04::54\n",
            "Connecting to accounts.google.com (accounts.google.com)|108.177.97.84|:443... connected.\n",
            "HTTP request sent, awaiting response... 200 OK\n",
            "Length: unspecified [text/html]\n",
            "Saving to: ‘view?usp=sharing’\n",
            "\n",
            "view?usp=sharing        [ <=>                ]  59.99K  --.-KB/s    in 0.001s  \n",
            "\n",
            "2020-09-20 06:51:09 (64.0 MB/s) - ‘view?usp=sharing’ saved [61432]\n",
            "\n"
          ],
          "name": "stdout"
        }
      ]
    },
    {
      "cell_type": "code",
      "metadata": {
        "id": "M1N8kS8CR9Qe",
        "colab_type": "code",
        "colab": {}
      },
      "source": [
        ""
      ],
      "execution_count": null,
      "outputs": []
    }
  ]
}