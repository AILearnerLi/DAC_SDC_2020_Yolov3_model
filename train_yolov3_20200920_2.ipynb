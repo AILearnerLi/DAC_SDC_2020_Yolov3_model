{
  "nbformat": 4,
  "nbformat_minor": 0,
  "metadata": {
    "colab": {
      "name": "train_yolov3_20200920-1.ipynb",
      "provenance": [],
      "collapsed_sections": [],
      "authorship_tag": "ABX9TyPvuPe2o1Qfl13N0WJ1H8p1",
      "include_colab_link": true
    },
    "kernelspec": {
      "name": "python3",
      "display_name": "Python 3"
    }
  },
  "cells": [
    {
      "cell_type": "markdown",
      "metadata": {
        "id": "view-in-github",
        "colab_type": "text"
      },
      "source": [
        "<a href=\"https://colab.research.google.com/github/maxpark/DAC_SDC_2020_Yolov3_model/blob/master/train_yolov3_20200920_2.ipynb\" target=\"_parent\"><img src=\"https://colab.research.google.com/assets/colab-badge.svg\" alt=\"Open In Colab\"/></a>"
      ]
    },
    {
      "cell_type": "code",
      "metadata": {
        "id": "DnSJwq5ioplC",
        "colab_type": "code",
        "colab": {
          "base_uri": "https://localhost:8080/",
          "height": 34
        },
        "outputId": "cb23256d-de77-48d7-a8be-850a7c05e91f"
      },
      "source": [
        "import time\n",
        "import glob\n",
        "import torch\n",
        "import os\n",
        "\n",
        "from IPython.display import Image, clear_output \n",
        "print('PyTorch %s %s' % (torch.__version__, torch.cuda.get_device_properties(0) if torch.cuda.is_available() else 'CPU'))"
      ],
      "execution_count": null,
      "outputs": [
        {
          "output_type": "stream",
          "text": [
            "PyTorch 1.6.0+cu101 CPU\n"
          ],
          "name": "stdout"
        }
      ]
    },
    {
      "cell_type": "code",
      "metadata": {
        "id": "026i1_yGozdT",
        "colab_type": "code",
        "colab": {
          "base_uri": "https://localhost:8080/",
          "height": 54
        },
        "outputId": "e8b3f31b-592a-4345-a0f7-721dafaaef96"
      },
      "source": [
        "!git clone https://github.com/maxpark/DAC_SDC_2020_Yolov3_model"
      ],
      "execution_count": null,
      "outputs": [
        {
          "output_type": "stream",
          "text": [
            "fatal: destination path 'DAC_SDC_2020_Yolov3_model' already exists and is not an empty directory.\n"
          ],
          "name": "stdout"
        }
      ]
    },
    {
      "cell_type": "code",
      "metadata": {
        "id": "9Vf7dhWsqxMY",
        "colab_type": "code",
        "colab": {}
      },
      "source": [
        "#!bash train/get_dataset.sh"
      ],
      "execution_count": null,
      "outputs": []
    },
    {
      "cell_type": "code",
      "metadata": {
        "id": "x3aOKbX37UhP",
        "colab_type": "code",
        "colab": {
          "base_uri": "https://localhost:8080/",
          "height": 204
        },
        "outputId": "ae85ef61-ec47-48a4-ad3f-3c5ed1f3755f"
      },
      "source": [
        "!wget -O data_training_V4.zip https://drive.google.com/file/d/1cwPeRERlwHsOFMOYR2K24XPCsi311iER/view?usp=sharing"
      ],
      "execution_count": null,
      "outputs": [
        {
          "output_type": "stream",
          "text": [
            "--2020-09-20 06:58:44--  https://drive.google.com/file/d/1cwPeRERlwHsOFMOYR2K24XPCsi311iER/view?usp=sharing\n",
            "Resolving drive.google.com (drive.google.com)... 108.177.97.138, 108.177.97.113, 108.177.97.100, ...\n",
            "Connecting to drive.google.com (drive.google.com)|108.177.97.138|:443... connected.\n",
            "HTTP request sent, awaiting response... 200 OK\n",
            "Length: unspecified [text/html]\n",
            "Saving to: ‘data_training_V4.zip’\n",
            "\n",
            "data_training_V4.zi     [ <=>                ]  60.97K  --.-KB/s    in 0.1s    \n",
            "\n",
            "2020-09-20 06:58:45 (508 KB/s) - ‘data_training_V4.zip’ saved [62433]\n",
            "\n"
          ],
          "name": "stdout"
        }
      ]
    },
    {
      "cell_type": "markdown",
      "metadata": {
        "id": "_B02REfwWcj5",
        "colab_type": "text"
      },
      "source": [
        ""
      ]
    },
    {
      "cell_type": "code",
      "metadata": {
        "id": "M1N8kS8CR9Qe",
        "colab_type": "code",
        "colab": {
          "base_uri": "https://localhost:8080/",
          "height": 51
        },
        "outputId": "ad8bacdb-dca9-4c06-ef01-a154ba4ba8f2"
      },
      "source": [
        "!filename=\"data_training_V4.zip\"\n",
        "!fileid=\"1cwPeRERlwHsOFMOYR2K24XPCsi311iER\" \n",
        "!curl -c ./cookie -s -L \"https://drive.google.com/uc?export=download&id=${fileid}\" >/dev/null\n",
        "!curl -Lb ./cookie \"https://drive.google.com/uc?export=download&confirm=$(awk '/download/ {print $NF}' ./cookie)&id=${fileid}\" -o ${filename}\n"
      ],
      "execution_count": null,
      "outputs": [
        {
          "output_type": "stream",
          "text": [
            "curl: option -o: requires parameter\n",
            "curl: try 'curl --help' or 'curl --manual' for more information\n"
          ],
          "name": "stdout"
        }
      ]
    },
    {
      "cell_type": "code",
      "metadata": {
        "id": "x3z-H35fU_T0",
        "colab_type": "code",
        "colab": {}
      },
      "source": [
        "!curl -c ./cookie -s -L \"https://drive.google.com/uc?export=download&id=${fileid}\" >/dev/null"
      ],
      "execution_count": null,
      "outputs": []
    },
    {
      "cell_type": "code",
      "metadata": {
        "id": "F8rk4sEsVfRN",
        "colab_type": "code",
        "colab": {
          "base_uri": "https://localhost:8080/",
          "height": 51
        },
        "outputId": "074060e5-ed28-40e0-f394-1ffade4609a5"
      },
      "source": [
        "!curl -Lb ./cookie \"https://drive.google.com/uc?export=download&confirm=$(awk '/download/ {print $NF}' ./cookie)&id=${fileid}\" -o ${filename}"
      ],
      "execution_count": null,
      "outputs": [
        {
          "output_type": "stream",
          "text": [
            "curl: option -o: requires parameter\n",
            "curl: try 'curl --help' or 'curl --manual' for more information\n"
          ],
          "name": "stdout"
        }
      ]
    },
    {
      "cell_type": "code",
      "metadata": {
        "id": "ZiFRjW6mVifi",
        "colab_type": "code",
        "colab": {
          "base_uri": "https://localhost:8080/",
          "height": 68
        },
        "outputId": "89504d87-2d67-4473-e6e9-9e7784c6033c"
      },
      "source": [
        "!f=\"val2017.zip\" && curl http://images.cocodataset.org/zips/$f -o $f && unzip -q $f && rm $f"
      ],
      "execution_count": null,
      "outputs": [
        {
          "output_type": "stream",
          "text": [
            "  % Total    % Received % Xferd  Average Speed   Time    Time     Time  Current\n",
            "                                 Dload  Upload   Total   Spent    Left  Speed\n",
            "100  777M  100  777M    0     0  12.7M      0  0:01:00  0:01:00 --:--:-- 16.3M\n"
          ],
          "name": "stdout"
        }
      ]
    },
    {
      "cell_type": "code",
      "metadata": {
        "id": "rOM_OXOhWK5L",
        "colab_type": "code",
        "colab": {
          "base_uri": "https://localhost:8080/",
          "height": 1000
        },
        "outputId": "b2f36e47-4dc6-48a9-fa11-adde486b7fa4"
      },
      "source": [
        "!gcloud"
      ],
      "execution_count": null,
      "outputs": [
        {
          "output_type": "stream",
          "text": [
            "\u001b[1;31mERROR:\u001b[0m (gcloud) Command name argument expected.\n",
            "Command name argument expected.\n",
            "\n",
            "\u001b[m\u001b[1mAvailable command groups for gcloud:\u001b[m\n",
            "\n",
            "\u001b[m  \u001b[1mAI and Machine Learning\u001b[m\n",
            "      ai-platform             Manage AI Platform jobs and models.\n",
            "      ml                      Use Google Cloud machine learning capabilities.\n",
            "      ml-engine               Manage AI Platform jobs and models.\n",
            "\n",
            "\u001b[m  \u001b[1mAPI Platform and Ecosystems\u001b[m\n",
            "      endpoints               Create, enable and manage API services.\n",
            "      recommender             Manage Cloud recommendations and recommendation\n",
            "                              rules.\n",
            "      services                List, enable and disable APIs and services.\n",
            "\n",
            "\u001b[m  \u001b[1mAnthos CLI\u001b[m\n",
            "      anthos                  Anthos command Group.\n",
            "\n",
            "\u001b[m  \u001b[1mCI/CD\u001b[m\n",
            "      scheduler               Manage Cloud Scheduler jobs and schedules.\n",
            "      tasks                   Manage Cloud Tasks queues and tasks.\n",
            "\n",
            "\u001b[m  \u001b[1mCompute\u001b[m\n",
            "      app                     Manage your App Engine deployments.\n",
            "      compute                 Create and manipulate Compute Engine resources.\n",
            "      container               Deploy and manage clusters of machines for running\n",
            "                              containers.\n",
            "      functions               Manage Google Cloud Functions.\n",
            "      run                     Manage your Cloud Run applications.\n",
            "\n",
            "\u001b[m  \u001b[1mData Analytics\u001b[m\n",
            "      composer                Create and manage Cloud Composer Environments.\n",
            "      data-catalog            Manage Cloud Data Catalog resources.\n",
            "      dataflow                Manage Google Cloud Dataflow resources.\n",
            "      dataproc                Create and manage Google Cloud Dataproc clusters\n",
            "                              and jobs.\n",
            "      pubsub                  Manage Cloud Pub/Sub topics, subscriptions, and\n",
            "                              snapshots.\n",
            "\n",
            "\u001b[m  \u001b[1mDatabases\u001b[m\n",
            "      bigtable                Manage your Cloud Bigtable storage.\n",
            "      datastore               Manage your Cloud Datastore resources.\n",
            "      firestore               Manage your Cloud Firestore resources.\n",
            "      spanner                 Command groups for Cloud Spanner.\n",
            "      sql                     Create and manage Google Cloud SQL databases.\n",
            "\n",
            "\u001b[m  \u001b[1mIdentity\u001b[m\n",
            "      active-directory        Manage Managed Microsoft AD resources.\n",
            "\n",
            "\u001b[m  \u001b[1mIdentity and Security\u001b[m\n",
            "      access-context-manager  Manage Access Context Manager resources.\n",
            "      auth                    Manage oauth2 credentials for the Google Cloud\n",
            "                              SDK.\n",
            "      iam                     Manage IAM service accounts and keys.\n",
            "      iap                     Manage IAP policies.\n",
            "      kms                     Manage cryptographic keys in the cloud.\n",
            "      policy-troubleshoot     Troubleshoot Google Cloud Platform policies.\n",
            "      resource-manager        Manage Cloud Resources.\n",
            "      secrets                 Manage secrets on Google Cloud.\n",
            "\n",
            "\u001b[m  \u001b[1mInternet of Things\u001b[m\n",
            "      iot                     Manage Cloud IoT resources.\n",
            "\n",
            "\u001b[m  \u001b[1mManagement Tools\u001b[m\n",
            "      builds                  Create and manage builds for Google Cloud Build.\n",
            "      debug                   Commands for interacting with the Cloud Debugger.\n",
            "      deployment-manager      Manage deployments of cloud resources.\n",
            "      logging                 Manage Cloud Logging.\n",
            "      organizations           Create and manage Google Cloud Platform\n",
            "                              Organizations.\n",
            "      projects                Create and manage project access policies.\n",
            "\n",
            "\u001b[m  \u001b[1mMobile\u001b[m\n",
            "      firebase                Work with Google Firebase.\n",
            "\n",
            "\u001b[m  \u001b[1mMonitoring\u001b[m\n",
            "      monitoring              Manage Cloud Monitoring dashboards.\n",
            "\n",
            "\u001b[m  \u001b[1mNetworking\u001b[m\n",
            "      dns                     Manage your Cloud DNS managed-zones and\n",
            "                              record-sets.\n",
            "      domains                 Manage domains for your Google Cloud projects.\n",
            "      network-management      Manage Network Management resources.\n",
            "\n",
            "\u001b[m  \u001b[1mSDK Tools\u001b[m\n",
            "      alpha                   Alpha versions of gcloud commands.\n",
            "      beta                    Beta versions of gcloud commands.\n",
            "      components              List, install, update, or remove Google Cloud SDK\n",
            "                              components.\n",
            "      config                  View and edit Cloud SDK properties.\n",
            "      source                  Cloud git repository commands.\n",
            "      topic                   gcloud supplementary help.\n",
            "\n",
            "\u001b[m  \u001b[1mSecurity\u001b[m\n",
            "      asset                   Manage the Cloud Asset Inventory.\n",
            "      scc                     Manage Cloud SCC resources.\n",
            "\n",
            "\u001b[m  \u001b[1mSolutions\u001b[m\n",
            "      game                    Managed Cloud Game Services.\n",
            "      healthcare              Manage Cloud Healthcare resources.\n",
            "\n",
            "\u001b[m  \u001b[1mStorage\u001b[m\n",
            "      filestore               Create and manipulate Cloud Filestore resources.\n",
            "      redis                   Manage Cloud Memorystore Redis resources.\n",
            "\n",
            "\u001b[m\u001b[1mAvailable commands for gcloud:\u001b[m\n",
            "\n",
            "\u001b[m  \u001b[1mOther\u001b[m\n",
            "      cheat-sheet             Display gcloud cheat sheet.\n",
            "      docker                  *(DEPRECATED)*  Enable Docker CLI access to Google\n",
            "                              Container Registry.\n",
            "      survey                  Invoke a customer satisfaction survey for Cloud\n",
            "                              SDK.\n",
            "\n",
            "\u001b[m  \u001b[1mSDK Tools\u001b[m\n",
            "      feedback                Provide feedback to the Google Cloud SDK team.\n",
            "      help                    Search gcloud help text.\n",
            "      info                    Display information about the current gcloud\n",
            "                              environment.\n",
            "      init                    Initialize or reinitialize gcloud.\n",
            "      version                 Print version information for Cloud SDK\n",
            "                              components.\n",
            "\n",
            "\u001b[m"
          ],
          "name": "stdout"
        }
      ]
    },
    {
      "cell_type": "code",
      "metadata": {
        "id": "0FOFq8gIaEFA",
        "colab_type": "code",
        "colab": {}
      },
      "source": [
        ""
      ],
      "execution_count": null,
      "outputs": []
    }
  ]
}