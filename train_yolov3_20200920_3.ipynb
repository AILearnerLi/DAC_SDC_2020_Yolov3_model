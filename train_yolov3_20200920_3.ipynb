{
  "nbformat": 4,
  "nbformat_minor": 0,
  "metadata": {
    "colab": {
      "name": "train_yolov3_20200920-1.ipynb",
      "provenance": [],
      "collapsed_sections": [],
      "mount_file_id": "https://github.com/maxpark/DAC_SDC_2020_Yolov3_model/blob/master/train_yolov3_20200920_2.ipynb",
      "authorship_tag": "ABX9TyOxE16df1pg4ouxS6I82nJl",
      "include_colab_link": true
    },
    "kernelspec": {
      "name": "python3",
      "display_name": "Python 3"
    }
  },
  "cells": [
    {
      "cell_type": "markdown",
      "metadata": {
        "id": "view-in-github",
        "colab_type": "text"
      },
      "source": [
        "<a href=\"https://colab.research.google.com/github/maxpark/DAC_SDC_2020_Yolov3_model/blob/master/train_yolov3_20200920_3.ipynb\" target=\"_parent\"><img src=\"https://colab.research.google.com/assets/colab-badge.svg\" alt=\"Open In Colab\"/></a>"
      ]
    },
    {
      "cell_type": "code",
      "metadata": {
        "id": "DnSJwq5ioplC",
        "colab_type": "code",
        "colab": {
          "base_uri": "https://localhost:8080/",
          "height": 34
        },
        "outputId": "7fb48f68-48d0-4b89-f7de-29789fda8a3f"
      },
      "source": [
        "##-- Torch import\n",
        "\n",
        "import time\n",
        "import glob\n",
        "import torch\n",
        "import os, sys\n",
        "\n",
        "from IPython.display import Image, clear_output \n",
        "print('PyTorch %s %s' % (torch.__version__, torch.cuda.get_device_properties(0) if torch.cuda.is_available() else 'CPU'))"
      ],
      "execution_count": 11,
      "outputs": [
        {
          "output_type": "stream",
          "text": [
            "PyTorch 1.6.0+cu101 CPU\n"
          ],
          "name": "stdout"
        }
      ]
    },
    {
      "cell_type": "code",
      "metadata": {
        "id": "026i1_yGozdT",
        "colab_type": "code",
        "colab": {
          "base_uri": "https://localhost:8080/",
          "height": 119
        },
        "outputId": "482cbed1-2dba-45a7-b36c-f3bab477c4bf"
      },
      "source": [
        "!git clone https://github.com/maxpark/DAC_SDC_2020_Yolov3_model"
      ],
      "execution_count": 2,
      "outputs": [
        {
          "output_type": "stream",
          "text": [
            "Cloning into 'DAC_SDC_2020_Yolov3_model'...\n",
            "remote: Enumerating objects: 58, done.\u001b[K\n",
            "remote: Counting objects: 100% (58/58), done.\u001b[K\n",
            "remote: Compressing objects: 100% (54/54), done.\u001b[K\n",
            "remote: Total 58 (delta 19), reused 27 (delta 2), pack-reused 0\u001b[K\n",
            "Unpacking objects: 100% (58/58), done.\n"
          ],
          "name": "stdout"
        }
      ]
    },
    {
      "cell_type": "code",
      "metadata": {
        "id": "9Vf7dhWsqxMY",
        "colab_type": "code",
        "colab": {}
      },
      "source": [
        "#!bash train/get_dataset.sh"
      ],
      "execution_count": null,
      "outputs": []
    },
    {
      "cell_type": "code",
      "metadata": {
        "id": "x3aOKbX37UhP",
        "colab_type": "code",
        "colab": {
          "base_uri": "https://localhost:8080/",
          "height": 204
        },
        "outputId": "ae85ef61-ec47-48a4-ad3f-3c5ed1f3755f"
      },
      "source": [
        "!wget -O data_training_V4.zip https://drive.google.com/file/d/1cwPeRERlwHsOFMOYR2K24XPCsi311iER/view?usp=sharing"
      ],
      "execution_count": null,
      "outputs": [
        {
          "output_type": "stream",
          "text": [
            "--2020-09-20 06:58:44--  https://drive.google.com/file/d/1cwPeRERlwHsOFMOYR2K24XPCsi311iER/view?usp=sharing\n",
            "Resolving drive.google.com (drive.google.com)... 108.177.97.138, 108.177.97.113, 108.177.97.100, ...\n",
            "Connecting to drive.google.com (drive.google.com)|108.177.97.138|:443... connected.\n",
            "HTTP request sent, awaiting response... 200 OK\n",
            "Length: unspecified [text/html]\n",
            "Saving to: ‘data_training_V4.zip’\n",
            "\n",
            "data_training_V4.zi     [ <=>                ]  60.97K  --.-KB/s    in 0.1s    \n",
            "\n",
            "2020-09-20 06:58:45 (508 KB/s) - ‘data_training_V4.zip’ saved [62433]\n",
            "\n"
          ],
          "name": "stdout"
        }
      ]
    },
    {
      "cell_type": "markdown",
      "metadata": {
        "id": "_B02REfwWcj5",
        "colab_type": "text"
      },
      "source": [
        ""
      ]
    },
    {
      "cell_type": "code",
      "metadata": {
        "id": "M1N8kS8CR9Qe",
        "colab_type": "code",
        "colab": {
          "base_uri": "https://localhost:8080/",
          "height": 51
        },
        "outputId": "ad8bacdb-dca9-4c06-ef01-a154ba4ba8f2"
      },
      "source": [
        "!filename=\"data_training_V4.zip\"\n",
        "!fileid=\"1cwPeRERlwHsOFMOYR2K24XPCsi311iER\" \n",
        "!curl -c ./cookie -s -L \"https://drive.google.com/uc?export=download&id=${fileid}\" >/dev/null\n",
        "!curl -Lb ./cookie \"https://drive.google.com/uc?export=download&confirm=$(awk '/download/ {print $NF}' ./cookie)&id=${fileid}\" -o ${filename}\n"
      ],
      "execution_count": null,
      "outputs": [
        {
          "output_type": "stream",
          "text": [
            "curl: option -o: requires parameter\n",
            "curl: try 'curl --help' or 'curl --manual' for more information\n"
          ],
          "name": "stdout"
        }
      ]
    },
    {
      "cell_type": "code",
      "metadata": {
        "id": "x3z-H35fU_T0",
        "colab_type": "code",
        "colab": {}
      },
      "source": [
        "!curl -c ./cookie -s -L \"https://drive.google.com/uc?export=download&id=${fileid}\" >/dev/null"
      ],
      "execution_count": null,
      "outputs": []
    },
    {
      "cell_type": "code",
      "metadata": {
        "id": "F8rk4sEsVfRN",
        "colab_type": "code",
        "colab": {
          "base_uri": "https://localhost:8080/",
          "height": 51
        },
        "outputId": "074060e5-ed28-40e0-f394-1ffade4609a5"
      },
      "source": [
        "!curl -Lb ./cookie \"https://drive.google.com/uc?export=download&confirm=$(awk '/download/ {print $NF}' ./cookie)&id=${fileid}\" -o ${filename}"
      ],
      "execution_count": null,
      "outputs": [
        {
          "output_type": "stream",
          "text": [
            "curl: option -o: requires parameter\n",
            "curl: try 'curl --help' or 'curl --manual' for more information\n"
          ],
          "name": "stdout"
        }
      ]
    },
    {
      "cell_type": "code",
      "metadata": {
        "id": "ZiFRjW6mVifi",
        "colab_type": "code",
        "colab": {
          "base_uri": "https://localhost:8080/",
          "height": 68
        },
        "outputId": "89504d87-2d67-4473-e6e9-9e7784c6033c"
      },
      "source": [
        "!f=\"val2017.zip\" && curl http://images.cocodataset.org/zips/$f -o $f && unzip -q $f && rm $f"
      ],
      "execution_count": null,
      "outputs": [
        {
          "output_type": "stream",
          "text": [
            "  % Total    % Received % Xferd  Average Speed   Time    Time     Time  Current\n",
            "                                 Dload  Upload   Total   Spent    Left  Speed\n",
            "100  777M  100  777M    0     0  12.7M      0  0:01:00  0:01:00 --:--:-- 16.3M\n"
          ],
          "name": "stdout"
        }
      ]
    },
    {
      "cell_type": "code",
      "metadata": {
        "id": "i8XuzqscBMb9",
        "colab_type": "code",
        "colab": {
          "base_uri": "https://localhost:8080/",
          "height": 54
        },
        "outputId": "52861735-7223-47e5-993d-7c14f9cd5179"
      },
      "source": [
        "#\n",
        "from google.colab import drive\n",
        "drive.mount('/content/drive')\n",
        "#os.listdir(\"/content/drive/My Drive\")\n",
        "nb_path = '/content/notebooks'\n",
        "os.symlink('/content/drive/My Drive/Colab Notebooks', nb_path)\n",
        "sys.path.insert(0, nb_path)"
      ],
      "execution_count": 12,
      "outputs": [
        {
          "output_type": "stream",
          "text": [
            "Drive already mounted at /content/drive; to attempt to forcibly remount, call drive.mount(\"/content/drive\", force_remount=True).\n"
          ],
          "name": "stdout"
        }
      ]
    },
    {
      "cell_type": "code",
      "metadata": {
        "id": "rOM_OXOhWK5L",
        "colab_type": "code",
        "colab": {
          "base_uri": "https://localhost:8080/",
          "height": 51
        },
        "outputId": "f809541c-46c9-4d39-b19e-ae2ec8c69ca0"
      },
      "source": [
        "cp /content/drive/My Drive/data_training_V4.zip .  "
      ],
      "execution_count": 15,
      "outputs": [
        {
          "output_type": "stream",
          "text": [
            "cp: cannot stat '/content/drive/My': No such file or directory\n",
            "cp: cannot stat 'Drive/data_training_V4.zip': No such file or directory\n"
          ],
          "name": "stdout"
        }
      ]
    },
    {
      "cell_type": "code",
      "metadata": {
        "id": "0FOFq8gIaEFA",
        "colab_type": "code",
        "colab": {
          "base_uri": "https://localhost:8080/",
          "height": 35
        },
        "outputId": "a485fbcc-1b7a-40c1-f914-079b50dd0c26"
      },
      "source": [
        "pwd"
      ],
      "execution_count": 17,
      "outputs": [
        {
          "output_type": "execute_result",
          "data": {
            "application/vnd.google.colaboratory.intrinsic+json": {
              "type": "string"
            },
            "text/plain": [
              "'/content'"
            ]
          },
          "metadata": {
            "tags": []
          },
          "execution_count": 17
        }
      ]
    },
    {
      "cell_type": "code",
      "metadata": {
        "id": "qxoD_Ln7EGLm",
        "colab_type": "code",
        "colab": {
          "base_uri": "https://localhost:8080/",
          "height": 34
        },
        "outputId": "4f47a05c-1c2d-4806-c217-761f0c5bbbea"
      },
      "source": [
        "ls\n"
      ],
      "execution_count": 18,
      "outputs": [
        {
          "output_type": "stream",
          "text": [
            "\u001b[0m\u001b[01;34mDAC_SDC_2020_Yolov3_model\u001b[0m/  \u001b[01;34mdrive\u001b[0m/  \u001b[01;36mnotebooks\u001b[0m@  \u001b[01;34msample_data\u001b[0m/\n"
          ],
          "name": "stdout"
        }
      ]
    },
    {
      "cell_type": "code",
      "metadata": {
        "id": "4o-gIEqfEQin",
        "colab_type": "code",
        "colab": {}
      },
      "source": [
        "cp ./drive/My Drive"
      ],
      "execution_count": null,
      "outputs": []
    }
  ]
}