{
  "nbformat": 4,
  "nbformat_minor": 0,
  "metadata": {
    "colab": {
      "name": "train_yolov3_20200920-1.ipynb",
      "provenance": [],
      "collapsed_sections": [],
      "mount_file_id": "https://github.com/maxpark/DAC_SDC_2020_Yolov3_model/blob/master/train_yolov3_20200920_2.ipynb",
      "authorship_tag": "ABX9TyMUW7wsny2WJ+wAIfligo4n",
      "include_colab_link": true
    },
    "kernelspec": {
      "name": "python3",
      "display_name": "Python 3"
    }
  },
  "cells": [
    {
      "cell_type": "markdown",
      "metadata": {
        "id": "view-in-github",
        "colab_type": "text"
      },
      "source": [
        "<a href=\"https://colab.research.google.com/github/maxpark/DAC_SDC_2020_Yolov3_model/blob/master/train_yolov3_20200920_3.ipynb\" target=\"_parent\"><img src=\"https://colab.research.google.com/assets/colab-badge.svg\" alt=\"Open In Colab\"/></a>"
      ]
    },
    {
      "cell_type": "code",
      "metadata": {
        "id": "DnSJwq5ioplC",
        "colab_type": "code",
        "colab": {
          "base_uri": "https://localhost:8080/",
          "height": 34
        },
        "outputId": "0315525d-c7d5-4703-a07a-282318595c62"
      },
      "source": [
        "##-- Torch import\n",
        "\n",
        "import time\n",
        "import glob\n",
        "import torch\n",
        "import os\n",
        "\n",
        "from IPython.display import Image, clear_output \n",
        "print('PyTorch %s %s' % (torch.__version__, torch.cuda.get_device_properties(0) if torch.cuda.is_available() else 'CPU'))"
      ],
      "execution_count": 1,
      "outputs": [
        {
          "output_type": "stream",
          "text": [
            "PyTorch 1.6.0+cu101 CPU\n"
          ],
          "name": "stdout"
        }
      ]
    },
    {
      "cell_type": "code",
      "metadata": {
        "id": "026i1_yGozdT",
        "colab_type": "code",
        "colab": {
          "base_uri": "https://localhost:8080/",
          "height": 119
        },
        "outputId": "482cbed1-2dba-45a7-b36c-f3bab477c4bf"
      },
      "source": [
        "!git clone https://github.com/maxpark/DAC_SDC_2020_Yolov3_model"
      ],
      "execution_count": 2,
      "outputs": [
        {
          "output_type": "stream",
          "text": [
            "Cloning into 'DAC_SDC_2020_Yolov3_model'...\n",
            "remote: Enumerating objects: 58, done.\u001b[K\n",
            "remote: Counting objects: 100% (58/58), done.\u001b[K\n",
            "remote: Compressing objects: 100% (54/54), done.\u001b[K\n",
            "remote: Total 58 (delta 19), reused 27 (delta 2), pack-reused 0\u001b[K\n",
            "Unpacking objects: 100% (58/58), done.\n"
          ],
          "name": "stdout"
        }
      ]
    },
    {
      "cell_type": "code",
      "metadata": {
        "id": "9Vf7dhWsqxMY",
        "colab_type": "code",
        "colab": {}
      },
      "source": [
        "#!bash train/get_dataset.sh"
      ],
      "execution_count": null,
      "outputs": []
    },
    {
      "cell_type": "code",
      "metadata": {
        "id": "x3aOKbX37UhP",
        "colab_type": "code",
        "colab": {
          "base_uri": "https://localhost:8080/",
          "height": 204
        },
        "outputId": "ae85ef61-ec47-48a4-ad3f-3c5ed1f3755f"
      },
      "source": [
        "!wget -O data_training_V4.zip https://drive.google.com/file/d/1cwPeRERlwHsOFMOYR2K24XPCsi311iER/view?usp=sharing"
      ],
      "execution_count": null,
      "outputs": [
        {
          "output_type": "stream",
          "text": [
            "--2020-09-20 06:58:44--  https://drive.google.com/file/d/1cwPeRERlwHsOFMOYR2K24XPCsi311iER/view?usp=sharing\n",
            "Resolving drive.google.com (drive.google.com)... 108.177.97.138, 108.177.97.113, 108.177.97.100, ...\n",
            "Connecting to drive.google.com (drive.google.com)|108.177.97.138|:443... connected.\n",
            "HTTP request sent, awaiting response... 200 OK\n",
            "Length: unspecified [text/html]\n",
            "Saving to: ‘data_training_V4.zip’\n",
            "\n",
            "data_training_V4.zi     [ <=>                ]  60.97K  --.-KB/s    in 0.1s    \n",
            "\n",
            "2020-09-20 06:58:45 (508 KB/s) - ‘data_training_V4.zip’ saved [62433]\n",
            "\n"
          ],
          "name": "stdout"
        }
      ]
    },
    {
      "cell_type": "markdown",
      "metadata": {
        "id": "_B02REfwWcj5",
        "colab_type": "text"
      },
      "source": [
        ""
      ]
    },
    {
      "cell_type": "code",
      "metadata": {
        "id": "M1N8kS8CR9Qe",
        "colab_type": "code",
        "colab": {
          "base_uri": "https://localhost:8080/",
          "height": 51
        },
        "outputId": "ad8bacdb-dca9-4c06-ef01-a154ba4ba8f2"
      },
      "source": [
        "!filename=\"data_training_V4.zip\"\n",
        "!fileid=\"1cwPeRERlwHsOFMOYR2K24XPCsi311iER\" \n",
        "!curl -c ./cookie -s -L \"https://drive.google.com/uc?export=download&id=${fileid}\" >/dev/null\n",
        "!curl -Lb ./cookie \"https://drive.google.com/uc?export=download&confirm=$(awk '/download/ {print $NF}' ./cookie)&id=${fileid}\" -o ${filename}\n"
      ],
      "execution_count": null,
      "outputs": [
        {
          "output_type": "stream",
          "text": [
            "curl: option -o: requires parameter\n",
            "curl: try 'curl --help' or 'curl --manual' for more information\n"
          ],
          "name": "stdout"
        }
      ]
    },
    {
      "cell_type": "code",
      "metadata": {
        "id": "x3z-H35fU_T0",
        "colab_type": "code",
        "colab": {}
      },
      "source": [
        "!curl -c ./cookie -s -L \"https://drive.google.com/uc?export=download&id=${fileid}\" >/dev/null"
      ],
      "execution_count": null,
      "outputs": []
    },
    {
      "cell_type": "code",
      "metadata": {
        "id": "F8rk4sEsVfRN",
        "colab_type": "code",
        "colab": {
          "base_uri": "https://localhost:8080/",
          "height": 51
        },
        "outputId": "074060e5-ed28-40e0-f394-1ffade4609a5"
      },
      "source": [
        "!curl -Lb ./cookie \"https://drive.google.com/uc?export=download&confirm=$(awk '/download/ {print $NF}' ./cookie)&id=${fileid}\" -o ${filename}"
      ],
      "execution_count": null,
      "outputs": [
        {
          "output_type": "stream",
          "text": [
            "curl: option -o: requires parameter\n",
            "curl: try 'curl --help' or 'curl --manual' for more information\n"
          ],
          "name": "stdout"
        }
      ]
    },
    {
      "cell_type": "code",
      "metadata": {
        "id": "ZiFRjW6mVifi",
        "colab_type": "code",
        "colab": {
          "base_uri": "https://localhost:8080/",
          "height": 68
        },
        "outputId": "89504d87-2d67-4473-e6e9-9e7784c6033c"
      },
      "source": [
        "!f=\"val2017.zip\" && curl http://images.cocodataset.org/zips/$f -o $f && unzip -q $f && rm $f"
      ],
      "execution_count": null,
      "outputs": [
        {
          "output_type": "stream",
          "text": [
            "  % Total    % Received % Xferd  Average Speed   Time    Time     Time  Current\n",
            "                                 Dload  Upload   Total   Spent    Left  Speed\n",
            "100  777M  100  777M    0     0  12.7M      0  0:01:00  0:01:00 --:--:-- 16.3M\n"
          ],
          "name": "stdout"
        }
      ]
    },
    {
      "cell_type": "code",
      "metadata": {
        "id": "i8XuzqscBMb9",
        "colab_type": "code",
        "colab": {
          "base_uri": "https://localhost:8080/",
          "height": 632
        },
        "outputId": "fab122f3-5f60-4290-bcd0-1de80fd44423"
      },
      "source": [
        "#\n",
        "from google.colab import drive\n",
        "drive.mount('/content/drive')\n",
        "os.listdir(\"/content/drive/My Drive\")"
      ],
      "execution_count": 7,
      "outputs": [
        {
          "output_type": "stream",
          "text": [
            "Drive already mounted at /content/drive; to attempt to forcibly remount, call drive.mount(\"/content/drive\", force_remount=True).\n"
          ],
          "name": "stdout"
        },
        {
          "output_type": "execute_result",
          "data": {
            "text/plain": [
              "['ETC',\n",
              " 'share',\n",
              " 'Doc_ChipSpec',\n",
              " 'AboutMe',\n",
              " 'UTIL',\n",
              " 'Doc_GNSD',\n",
              " 'Doc_ORDROID7',\n",
              " '아나패스 FAE.docx',\n",
              " 'Doc_Tech',\n",
              " 'PROJECT',\n",
              " '특허_소견서.gdoc',\n",
              " 'Doc_BASICTECH',\n",
              " 'xxxx_2018-0206.pptx',\n",
              " 'Doc_PLK',\n",
              " 'practice_status_dm4.gdoc',\n",
              " '20180426_hls4ml_kreis.pdf',\n",
              " 'Edge AI Tutorials .pdf',\n",
              " '남선교회  헌신 대표예배 (2019.8.25).gdoc',\n",
              " '베드로 , 디모데  남선교회  헌신예배 대표기도 (2019. 8. 25).gdoc',\n",
              " 'Untitled document (1).gdoc',\n",
              " 'Untitled document.gdoc',\n",
              " '제목없는 문서.gdoc',\n",
              " 'Colab Notebooks',\n",
              " '사원증PLK-전면.jpg',\n",
              " '사원증PLK-후면.jpg',\n",
              " 'Ultra96 용 Vitis 플랫폼을 만드는 방법 (BASE 편) - Qiita',\n",
              " '가속스터디_시즌2.xlsx',\n",
              " '딥엑스.docx',\n",
              " '브라이토닉스 이미징.docx',\n",
              " '브라이토닉스 이미징.gdoc',\n",
              " '딥엑스.gdoc',\n",
              " 'sim_GenTrigger_20200911-2.zip',\n",
              " 'readme.gdoc',\n",
              " 'data_training_V4.zip']"
            ]
          },
          "metadata": {
            "tags": []
          },
          "execution_count": 7
        }
      ]
    },
    {
      "cell_type": "code",
      "metadata": {
        "id": "rOM_OXOhWK5L",
        "colab_type": "code",
        "colab": {
          "base_uri": "https://localhost:8080/",
          "height": 51
        },
        "outputId": "2793afb2-f585-43fa-c31d-be19ba26985b"
      },
      "source": [
        "!cp /content/drive/My Drive/data_training_V4.zip ."
      ],
      "execution_count": 6,
      "outputs": [
        {
          "output_type": "stream",
          "text": [
            "cp: cannot stat '/content/drive/My': No such file or directory\n",
            "cp: cannot stat 'Drive/data_training_V4.zip': No such file or directory\n"
          ],
          "name": "stdout"
        }
      ]
    },
    {
      "cell_type": "code",
      "metadata": {
        "id": "0FOFq8gIaEFA",
        "colab_type": "code",
        "colab": {}
      },
      "source": [
        ""
      ],
      "execution_count": null,
      "outputs": []
    }
  ]
}